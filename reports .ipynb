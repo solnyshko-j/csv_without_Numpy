{
 "cells": [
  {
   "cell_type": "code",
   "execution_count": null,
   "id": "043aa94a",
   "metadata": {},
   "outputs": [],
   "source": [
    "При старте программы выводится меню, которое состоит из 3-х пунктов:\n",
    "\n",
    "1 Вывести в понятном виде иерархию команд, т.е. департамент и все команды, которые входят в него\n",
    "2 Вывести сводный отчёт по департаментам: название, численность, \"вилка\" зарплат в виде мин – макс, среднюю зарплату\n",
    "3 Сохранить сводный отчёт из предыдущего пункта в виде csv-файла. При этом необязательно вызывать сначала команду из п.2\n"
   ]
  },
  {
   "cell_type": "code",
   "execution_count": 47,
   "id": "7bc51cf9",
   "metadata": {},
   "outputs": [],
   "source": [
    "import csv"
   ]
  },
  {
   "cell_type": "code",
   "execution_count": 262,
   "id": "58a79b76",
   "metadata": {},
   "outputs": [
    {
     "name": "stdout",
     "output_type": "stream",
     "text": [
      "1 Вывести в понятном виде иерархию команд, т.е. департамент и все команды, которые входят в него\n",
      "\n",
      "2 Вывести сводный отчёт по департаментам: название, численность, \"вилка\" зарплат в виде мин – макс,\n",
      "  среднюю зарплату\n",
      "\n",
      "3 Сохранить сводный отчёт из предыдущего пункта в виде csv-файла. При этом необязательно вызывать\n",
      "  сначала команду из п.2\n",
      "4 завершить программу\n",
      "выберите действие из списка выше:\n",
      "\n",
      "1\n",
      "Разработка : Основной продукт, Внутренний портал, Платформа\n",
      "Маркетинг : Direct, Performance\n",
      "Бухгалтерия : Зарплата, Компенсации и льготы\n",
      "Аналитика : Product, DWH\n",
      "Продажи : B2B, Госы, B2C\n",
      "1 Вывести в понятном виде иерархию команд, т.е. департамент и все команды, которые входят в него\n",
      "\n",
      "2 Вывести сводный отчёт по департаментам: название, численность, \"вилка\" зарплат в виде мин – макс,\n",
      "  среднюю зарплату\n",
      "\n",
      "3 Сохранить сводный отчёт из предыдущего пункта в виде csv-файла. При этом необязательно вызывать\n",
      "  сначала команду из п.2\n",
      "4 завершить программу\n",
      "выберите действие из списка выше:\n",
      "\n",
      "4\n"
     ]
    }
   ],
   "source": [
    "\"\"\"основная ячейка \"\"\"\n",
    "path_name = 'Corp_Summary.csv'\n",
    "\n",
    "while True:\n",
    "        x = menu()\n",
    "        options = {\n",
    "            1: print_structure,\n",
    "            2: make_report,\n",
    "            3: save_report,\n",
    "        }\n",
    "        if x == 4: break\n",
    "        elif x in options.keys():\n",
    "            options[x](path_name)\n",
    "        else: print('нет такого варианта\\nвыберите действие из списка выше:\\n')\n"
   ]
  },
  {
   "cell_type": "code",
   "execution_count": 256,
   "id": "535cc4ee",
   "metadata": {},
   "outputs": [],
   "source": [
    "def menu() -> int:\n",
    "    \"\"\" выводит меню и возвращает корректный выбор пользователя\n",
    "    ecли выбор не корректен спрашивает вновь\n",
    "    \n",
    "    \"\"\"\n",
    "    print('1 Вывести в понятном виде иерархию команд, т.е. департамент и все команды, которые входят в него\\n')\n",
    "    print('2 Вывести сводный отчёт по департаментам: название, численность, \"вилка\" зарплат в виде мин – макс,\\n',\n",
    "          ' среднюю зарплату\\n')\n",
    "    print('3 Сохранить сводный отчёт из предыдущего пункта в виде csv-файла. При этом необязательно вызывать\\n',\n",
    "          ' сначала команду из п.2')\n",
    "    print('4 завершить программу')\n",
    "    print('выберите действие из списка выше:\\n')\n",
    "\n",
    "\n",
    "    while True:\n",
    "        x = int(input())\n",
    "        if (x>0 and x<5): break\n",
    "        else: print('нет такого варианта\\nвыберите действие из списка выше:\\n')\n",
    "    return x"
   ]
  },
  {
   "cell_type": "code",
   "execution_count": 162,
   "id": "f697caa0",
   "metadata": {},
   "outputs": [],
   "source": [
    "def print_structure(path_name : str) :\n",
    "    \"\"\"\n",
    "    открывает файл указанный в path_name и печатает список департаментов и их отделов,\n",
    "    если не удалось печатает ошибку открытия файла\n",
    "    \n",
    "    \"\"\"\n",
    "    try:\n",
    "        with open(path_name, newline='') as csvfile:\n",
    "            reader = csv.DictReader(csvfile,delimiter=';')\n",
    "            departments = {}\n",
    "            for row in reader:                \n",
    "                departments[row['Департамент']] = departments.get( row['Департамент'], set([row['Отдел']]) )\n",
    "                departments[row['Департамент']].add(row['Отдел'])\n",
    "            for key,value in departments.items(): \n",
    "                print(key, ':', ', '.join([v for v in value])) \n",
    "                \n",
    "                \n",
    "    except:\n",
    "        print(f'no file in directory:{path_name}')\n",
    "\n"
   ]
  },
  {
   "cell_type": "code",
   "execution_count": 205,
   "id": "faaf1e3d",
   "metadata": {},
   "outputs": [],
   "source": [
    "def make_report(path_name : str) :\n",
    "    \"\"\"\n",
    "    открывает файл указанный в path_name и печатает  название, численность,\n",
    "    \"вилка\" зарплат в виде мин – макс, среднюю зарплату\n",
    "    \n",
    "    если не удалось печатает ошибку открытия файла\n",
    "    \n",
    "    \"\"\"\n",
    "    try:\n",
    "        \n",
    "        with open(path_name, newline='') as csvfile:\n",
    "            reader = csv.DictReader(csvfile,delimiter=';')\n",
    "            departments = {}\n",
    "            for row in reader:                \n",
    "                departments[row['Департамент']] = departments.get( row['Департамент'], [0,int(row['Оклад']),0,0] )\n",
    "                departments[row['Департамент']][0] += 1\n",
    "                departments[row['Департамент']][1] = min(departments[row['Департамент']][1], int(row['Оклад']))\n",
    "                departments[row['Департамент']][2] = max(departments[row['Департамент']][1], int(row['Оклад']))\n",
    "                departments[row['Департамент']][3] += int(row['Оклад'])\n",
    "\n",
    "        print('Департамент : численность, минимальная зп, максимальная зп, средняя зп')\n",
    "        for key,value in departments.items(): \n",
    "                value[3] = int(value[3]/value[0])\n",
    "                print(key, ':', ', '.join([str(v) for v in value])) \n",
    "     \n",
    "    except:\n",
    "        print(f'no file in directory:{path_name}')         \n",
    "     \n",
    "\n"
   ]
  },
  {
   "cell_type": "code",
   "execution_count": 248,
   "id": "b8dc635e",
   "metadata": {},
   "outputs": [],
   "source": [
    "def save_report(path_name : str) :\n",
    "    \"\"\"\n",
    "    открывает файл указанный в path_name и печатает в report.csv название, численность,\n",
    "    \"вилка\" зарплат в виде мин – макс, среднюю зарплату\n",
    "    \n",
    "    если не удалось печатает ошибку открытия или создания файла\n",
    "    \n",
    "    \"\"\"\n",
    "    try:\n",
    "        \n",
    "        with open(path_name, newline='') as csvfile:\n",
    "            reader = csv.DictReader(csvfile,delimiter=';')\n",
    "            departments = {}\n",
    "            for row in reader:                \n",
    "                departments[row['Департамент']] = departments.get( row['Департамент'], [0,int(row['Оклад']),0,0] )\n",
    "                departments[row['Департамент']][0] += 1\n",
    "                departments[row['Департамент']][1] = min(departments[row['Департамент']][1], int(row['Оклад']))\n",
    "                departments[row['Департамент']][2] = max(departments[row['Департамент']][1], int(row['Оклад']))\n",
    "                departments[row['Департамент']][3] += int(row['Оклад'])\n",
    "        reports = []\n",
    "        for key,value in departments.items():\n",
    "            report = {}\n",
    "            report['Департамент'] = key\n",
    "            report['Численность'] = value[0]\n",
    "            report['Mинимальная зп'] = value[1]\n",
    "            report['Mаксимальная зп'] = value[2]\n",
    "            report['Cредняя зп'] = int(value[3]/value[0])\n",
    "            reports.append(report)\n",
    "        try:\n",
    "            with open('report.csv', 'w') as f:  # You will need 'wb' mode in Python 2.x\n",
    "                w = csv.DictWriter(f, reports[0].keys())\n",
    "                w.writeheader()\n",
    "                for r in reports:\n",
    "                    w.writerow(r)\n",
    "                print('report saved as \"report.csv\"')\n",
    "        except:\n",
    "            print('недостаточно места для создания файла')\n",
    "     \n",
    "    except:\n",
    "        print(f'no file in directory:{path_name}')         \n",
    "     \n",
    "\n"
   ]
  },
  {
   "cell_type": "code",
   "execution_count": 249,
   "id": "3a96bc58",
   "metadata": {},
   "outputs": [
    {
     "name": "stdout",
     "output_type": "stream",
     "text": [
      "Разработка : Основной продукт, Внутренний портал, Платформа\n",
      "Маркетинг : Direct, Performance\n",
      "Бухгалтерия : Зарплата, Компенсации и льготы\n",
      "Аналитика : Product, DWH\n",
      "Продажи : B2B, Госы, B2C\n"
     ]
    }
   ],
   "source": [
    "print_structure('Corp_Summary.csv')\n"
   ]
  },
  {
   "cell_type": "code",
   "execution_count": 250,
   "id": "006e3bd7",
   "metadata": {},
   "outputs": [
    {
     "name": "stdout",
     "output_type": "stream",
     "text": [
      "Департамент : численность, минимальная зп, максимальная зп, средняя зп\n",
      "Разработка : 47, 56000, 100600, 91891\n",
      "Маркетинг : 38, 55500, 55500, 94202\n",
      "Бухгалтерия : 41, 56100, 111900, 92941\n",
      "Аналитика : 34, 55200, 118900, 89008\n",
      "Продажи : 40, 55700, 95200, 89307\n"
     ]
    }
   ],
   "source": [
    "make_report('Corp_Summary.csv')"
   ]
  },
  {
   "cell_type": "code",
   "execution_count": 251,
   "id": "63919833",
   "metadata": {},
   "outputs": [
    {
     "name": "stdout",
     "output_type": "stream",
     "text": [
      "report saved as \"report.csv\"\n"
     ]
    }
   ],
   "source": [
    "save_report('Corp_Summary.csv')\n"
   ]
  }
 ],
 "metadata": {
  "kernelspec": {
   "display_name": "Python 3",
   "language": "python",
   "name": "python3"
  },
  "language_info": {
   "codemirror_mode": {
    "name": "ipython",
    "version": 3
   },
   "file_extension": ".py",
   "mimetype": "text/x-python",
   "name": "python",
   "nbconvert_exporter": "python",
   "pygments_lexer": "ipython3",
   "version": "3.8.8"
  }
 },
 "nbformat": 4,
 "nbformat_minor": 5
}
